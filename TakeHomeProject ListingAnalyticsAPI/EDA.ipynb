{
 "cells": [
  {
   "cell_type": "code",
   "execution_count": 14,
   "metadata": {
    "collapsed": true
   },
   "outputs": [],
   "source": [
    "import pandas as pd\n",
    "import matplotlib.pyplot as plt\n",
    "%matplotlib inline"
   ]
  },
  {
   "cell_type": "code",
   "execution_count": 2,
   "metadata": {
    "collapsed": true
   },
   "outputs": [],
   "source": [
    "df = pd.read_csv(\"listings1.csv\")"
   ]
  },
  {
   "cell_type": "code",
   "execution_count": 3,
   "metadata": {
    "collapsed": false
   },
   "outputs": [
    {
     "data": {
      "text/html": [
       "<div>\n",
       "<table border=\"1\" class=\"dataframe\">\n",
       "  <thead>\n",
       "    <tr style=\"text-align: right;\">\n",
       "      <th></th>\n",
       "      <th>id</th>\n",
       "      <th>beds</th>\n",
       "      <th>price</th>\n",
       "      <th>abstract</th>\n",
       "      <th>city</th>\n",
       "      <th>state</th>\n",
       "      <th>create_date</th>\n",
       "      <th>expire_date</th>\n",
       "    </tr>\n",
       "  </thead>\n",
       "  <tbody>\n",
       "    <tr>\n",
       "      <th>0</th>\n",
       "      <td>16809773</td>\n",
       "      <td>2</td>\n",
       "      <td>775</td>\n",
       "      <td>Call now for a tour! 855-213-2228\\n\\nWATERS LA...</td>\n",
       "      <td>Fort Worth</td>\n",
       "      <td>TX</td>\n",
       "      <td>06/19/2014 06:43:01.570066</td>\n",
       "      <td>07/22/2014 10:15:40.452517</td>\n",
       "    </tr>\n",
       "    <tr>\n",
       "      <th>1</th>\n",
       "      <td>17102205</td>\n",
       "      <td>1</td>\n",
       "      <td>724</td>\n",
       "      <td>Located in the Westchase District of Houston, ...</td>\n",
       "      <td>Houston</td>\n",
       "      <td>TX</td>\n",
       "      <td>07/04/2014 10:16:21.888773</td>\n",
       "      <td>07/05/2014 10:15:24.904226</td>\n",
       "    </tr>\n",
       "    <tr>\n",
       "      <th>2</th>\n",
       "      <td>17860015</td>\n",
       "      <td>2</td>\n",
       "      <td>2395</td>\n",
       "      <td>Let's get to the good stuff.  \\n\\n\\nOur VIDEO ...</td>\n",
       "      <td>Anaheim</td>\n",
       "      <td>CA</td>\n",
       "      <td>08/12/2014 07:45:50.570992</td>\n",
       "      <td>08/20/2014 10:17:09.505251</td>\n",
       "    </tr>\n",
       "    <tr>\n",
       "      <th>3</th>\n",
       "      <td>16722129</td>\n",
       "      <td>2</td>\n",
       "      <td>1395</td>\n",
       "      <td>SPECIAL!  Rent with us today and receive May...</td>\n",
       "      <td>Ottawa</td>\n",
       "      <td>ON</td>\n",
       "      <td>06/15/2014 10:18:16.221786</td>\n",
       "      <td>07/05/2014 10:16:37.783382</td>\n",
       "    </tr>\n",
       "    <tr>\n",
       "      <th>4</th>\n",
       "      <td>16984003</td>\n",
       "      <td>2</td>\n",
       "      <td>1110</td>\n",
       "      <td>Cornell 55 consists of two historic buildings ...</td>\n",
       "      <td>Chicago</td>\n",
       "      <td>IL</td>\n",
       "      <td>06/27/2014 10:17:45.513226</td>\n",
       "      <td>07/03/2014 10:15:46.999123</td>\n",
       "    </tr>\n",
       "  </tbody>\n",
       "</table>\n",
       "</div>"
      ],
      "text/plain": [
       "         id  beds  price                                           abstract  \\\n",
       "0  16809773     2    775  Call now for a tour! 855-213-2228\\n\\nWATERS LA...   \n",
       "1  17102205     1    724  Located in the Westchase District of Houston, ...   \n",
       "2  17860015     2   2395  Let's get to the good stuff.  \\n\\n\\nOur VIDEO ...   \n",
       "3  16722129     2   1395    SPECIAL!  Rent with us today and receive May...   \n",
       "4  16984003     2   1110  Cornell 55 consists of two historic buildings ...   \n",
       "\n",
       "         city state                 create_date                 expire_date  \n",
       "0  Fort Worth    TX  06/19/2014 06:43:01.570066  07/22/2014 10:15:40.452517  \n",
       "1     Houston    TX  07/04/2014 10:16:21.888773  07/05/2014 10:15:24.904226  \n",
       "2     Anaheim    CA  08/12/2014 07:45:50.570992  08/20/2014 10:17:09.505251  \n",
       "3      Ottawa    ON  06/15/2014 10:18:16.221786  07/05/2014 10:16:37.783382  \n",
       "4     Chicago    IL  06/27/2014 10:17:45.513226  07/03/2014 10:15:46.999123  "
      ]
     },
     "execution_count": 3,
     "metadata": {},
     "output_type": "execute_result"
    }
   ],
   "source": [
    "df.head()"
   ]
  },
  {
   "cell_type": "code",
   "execution_count": 5,
   "metadata": {
    "collapsed": false
   },
   "outputs": [
    {
     "name": "stdout",
     "output_type": "stream",
     "text": [
      "<class 'pandas.core.frame.DataFrame'>\n",
      "Int64Index: 2238 entries, 0 to 2237\n",
      "Data columns (total 8 columns):\n",
      "id             2238 non-null int64\n",
      "beds           2238 non-null int64\n",
      "price          2238 non-null int64\n",
      "abstract       2012 non-null object\n",
      "city           2238 non-null object\n",
      "state          2238 non-null object\n",
      "create_date    2238 non-null object\n",
      "expire_date    2137 non-null object\n",
      "dtypes: int64(3), object(5)\n",
      "memory usage: 157.4+ KB\n"
     ]
    }
   ],
   "source": [
    "df.info()"
   ]
  },
  {
   "cell_type": "code",
   "execution_count": 6,
   "metadata": {
    "collapsed": true
   },
   "outputs": [],
   "source": [
    "df2 = pd.read_csv(\"listings2.csv\")"
   ]
  },
  {
   "cell_type": "code",
   "execution_count": 7,
   "metadata": {
    "collapsed": false
   },
   "outputs": [
    {
     "data": {
      "text/html": [
       "<div>\n",
       "<table border=\"1\" class=\"dataframe\">\n",
       "  <thead>\n",
       "    <tr style=\"text-align: right;\">\n",
       "      <th></th>\n",
       "      <th>id</th>\n",
       "      <th>beds</th>\n",
       "      <th>price</th>\n",
       "      <th>abstract</th>\n",
       "      <th>city</th>\n",
       "      <th>state</th>\n",
       "      <th>create_date</th>\n",
       "      <th>expire_date</th>\n",
       "    </tr>\n",
       "  </thead>\n",
       "  <tbody>\n",
       "    <tr>\n",
       "      <th>0</th>\n",
       "      <td>16694859</td>\n",
       "      <td>2</td>\n",
       "      <td>4333</td>\n",
       "      <td>Every day is an open house here at Peter Coope...</td>\n",
       "      <td>New York</td>\n",
       "      <td>NY</td>\n",
       "      <td>06/14/2014 10:17:52.673243</td>\n",
       "      <td>06/16/2014 10:19:45.448141</td>\n",
       "    </tr>\n",
       "    <tr>\n",
       "      <th>1</th>\n",
       "      <td>17065347</td>\n",
       "      <td>2</td>\n",
       "      <td>3983</td>\n",
       "      <td>Peter Cooper Village/ Stuyvesant Town offers a...</td>\n",
       "      <td>New York</td>\n",
       "      <td>NY</td>\n",
       "      <td>07/02/2014 10:18:01.533469</td>\n",
       "      <td>07/08/2014 10:16:17.995626</td>\n",
       "    </tr>\n",
       "    <tr>\n",
       "      <th>2</th>\n",
       "      <td>16362873</td>\n",
       "      <td>1</td>\n",
       "      <td>2962</td>\n",
       "      <td>Every day is an open house here at Peter Coope...</td>\n",
       "      <td>New York</td>\n",
       "      <td>NY</td>\n",
       "      <td>06/02/2014 10:18:06.505596</td>\n",
       "      <td>06/10/2014 12:44:26.470681</td>\n",
       "    </tr>\n",
       "    <tr>\n",
       "      <th>3</th>\n",
       "      <td>16362952</td>\n",
       "      <td>2</td>\n",
       "      <td>3965</td>\n",
       "      <td>Every day is an open house here at Peter Coope...</td>\n",
       "      <td>New York</td>\n",
       "      <td>NY</td>\n",
       "      <td>06/02/2014 10:18:47.834146</td>\n",
       "      <td>06/10/2014 12:45:09.599242</td>\n",
       "    </tr>\n",
       "    <tr>\n",
       "      <th>4</th>\n",
       "      <td>16362964</td>\n",
       "      <td>1</td>\n",
       "      <td>3452</td>\n",
       "      <td>Every day is an open house here at Peter Coope...</td>\n",
       "      <td>New York</td>\n",
       "      <td>NY</td>\n",
       "      <td>06/02/2014 10:18:53.276642</td>\n",
       "      <td>06/16/2014 10:16:58.153732</td>\n",
       "    </tr>\n",
       "  </tbody>\n",
       "</table>\n",
       "</div>"
      ],
      "text/plain": [
       "         id  beds  price                                           abstract  \\\n",
       "0  16694859     2   4333  Every day is an open house here at Peter Coope...   \n",
       "1  17065347     2   3983  Peter Cooper Village/ Stuyvesant Town offers a...   \n",
       "2  16362873     1   2962  Every day is an open house here at Peter Coope...   \n",
       "3  16362952     2   3965  Every day is an open house here at Peter Coope...   \n",
       "4  16362964     1   3452  Every day is an open house here at Peter Coope...   \n",
       "\n",
       "       city state                 create_date                 expire_date  \n",
       "0  New York    NY  06/14/2014 10:17:52.673243  06/16/2014 10:19:45.448141  \n",
       "1  New York    NY  07/02/2014 10:18:01.533469  07/08/2014 10:16:17.995626  \n",
       "2  New York    NY  06/02/2014 10:18:06.505596  06/10/2014 12:44:26.470681  \n",
       "3  New York    NY  06/02/2014 10:18:47.834146  06/10/2014 12:45:09.599242  \n",
       "4  New York    NY  06/02/2014 10:18:53.276642  06/16/2014 10:16:58.153732  "
      ]
     },
     "execution_count": 7,
     "metadata": {},
     "output_type": "execute_result"
    }
   ],
   "source": [
    "df2.head()"
   ]
  },
  {
   "cell_type": "code",
   "execution_count": 8,
   "metadata": {
    "collapsed": true
   },
   "outputs": [],
   "source": [
    "df3 = pd.read_csv(\"listings3.csv\")"
   ]
  },
  {
   "cell_type": "code",
   "execution_count": 9,
   "metadata": {
    "collapsed": false
   },
   "outputs": [
    {
     "data": {
      "text/html": [
       "<div>\n",
       "<table border=\"1\" class=\"dataframe\">\n",
       "  <thead>\n",
       "    <tr style=\"text-align: right;\">\n",
       "      <th></th>\n",
       "      <th>id</th>\n",
       "      <th>beds</th>\n",
       "      <th>price</th>\n",
       "      <th>abstract</th>\n",
       "      <th>city</th>\n",
       "      <th>state</th>\n",
       "      <th>create_date</th>\n",
       "      <th>expire_date</th>\n",
       "    </tr>\n",
       "  </thead>\n",
       "  <tbody>\n",
       "    <tr>\n",
       "      <th>0</th>\n",
       "      <td>17380702</td>\n",
       "      <td>1</td>\n",
       "      <td>1320</td>\n",
       "      <td>NaN</td>\n",
       "      <td>Dallas</td>\n",
       "      <td>TX</td>\n",
       "      <td>07/17/2014 10:24:47.514507</td>\n",
       "      <td>08/25/2014 10:17:14.099767</td>\n",
       "    </tr>\n",
       "    <tr>\n",
       "      <th>1</th>\n",
       "      <td>17380285</td>\n",
       "      <td>2</td>\n",
       "      <td>1090</td>\n",
       "      <td>NaN</td>\n",
       "      <td>McKinney</td>\n",
       "      <td>TX</td>\n",
       "      <td>07/17/2014 10:23:31.66817</td>\n",
       "      <td>08/25/2014 10:16:20.111967</td>\n",
       "    </tr>\n",
       "    <tr>\n",
       "      <th>2</th>\n",
       "      <td>17475692</td>\n",
       "      <td>2</td>\n",
       "      <td>1700</td>\n",
       "      <td>Amazing two bedroom, two bath in new construct...</td>\n",
       "      <td>Chicago</td>\n",
       "      <td>IL</td>\n",
       "      <td>07/22/2014 10:16:59.713929</td>\n",
       "      <td>08/02/2014 16:40:57.45617</td>\n",
       "    </tr>\n",
       "    <tr>\n",
       "      <th>3</th>\n",
       "      <td>17129209</td>\n",
       "      <td>1</td>\n",
       "      <td>3313</td>\n",
       "      <td>Peter Cooper Village/ Stuyvesant Town offers a...</td>\n",
       "      <td>New York</td>\n",
       "      <td>NY</td>\n",
       "      <td>07/05/2014 10:16:25.457172</td>\n",
       "      <td>07/07/2014 10:17:10.140115</td>\n",
       "    </tr>\n",
       "    <tr>\n",
       "      <th>4</th>\n",
       "      <td>17380654</td>\n",
       "      <td>2</td>\n",
       "      <td>832</td>\n",
       "      <td>NaN</td>\n",
       "      <td>Irving</td>\n",
       "      <td>TX</td>\n",
       "      <td>07/17/2014 10:24:37.868845</td>\n",
       "      <td>08/25/2014 10:16:41.286634</td>\n",
       "    </tr>\n",
       "  </tbody>\n",
       "</table>\n",
       "</div>"
      ],
      "text/plain": [
       "         id  beds  price                                           abstract  \\\n",
       "0  17380702     1   1320                                                NaN   \n",
       "1  17380285     2   1090                                                NaN   \n",
       "2  17475692     2   1700  Amazing two bedroom, two bath in new construct...   \n",
       "3  17129209     1   3313  Peter Cooper Village/ Stuyvesant Town offers a...   \n",
       "4  17380654     2    832                                                NaN   \n",
       "\n",
       "       city state                 create_date                 expire_date  \n",
       "0    Dallas    TX  07/17/2014 10:24:47.514507  08/25/2014 10:17:14.099767  \n",
       "1  McKinney    TX   07/17/2014 10:23:31.66817  08/25/2014 10:16:20.111967  \n",
       "2   Chicago    IL  07/22/2014 10:16:59.713929   08/02/2014 16:40:57.45617  \n",
       "3  New York    NY  07/05/2014 10:16:25.457172  07/07/2014 10:17:10.140115  \n",
       "4    Irving    TX  07/17/2014 10:24:37.868845  08/25/2014 10:16:41.286634  "
      ]
     },
     "execution_count": 9,
     "metadata": {},
     "output_type": "execute_result"
    }
   ],
   "source": [
    "df3.head()"
   ]
  },
  {
   "cell_type": "code",
   "execution_count": 17,
   "metadata": {
    "collapsed": false
   },
   "outputs": [
    {
     "data": {
      "text/plain": [
       "TX    830\n",
       "NY    391\n",
       "IL    155\n",
       "ON    109\n",
       "CA     37\n",
       "GA     16\n",
       "QC     10\n",
       "PA     10\n",
       "FL      8\n",
       "VA      6\n",
       "NJ      6\n",
       "SC      5\n",
       "MO      5\n",
       "OR      4\n",
       "AZ      2\n",
       "MD      2\n",
       "CO      2\n",
       "NV      2\n",
       "TN      1\n",
       "MN      1\n",
       "OH      1\n",
       "MA      1\n",
       "dtype: int64"
      ]
     },
     "execution_count": 17,
     "metadata": {},
     "output_type": "execute_result"
    }
   ],
   "source": [
    "df2.state.value_counts()"
   ]
  },
  {
   "cell_type": "code",
   "execution_count": null,
   "metadata": {
    "collapsed": true
   },
   "outputs": [],
   "source": []
  }
 ],
 "metadata": {
  "kernelspec": {
   "display_name": "Python 2",
   "language": "python",
   "name": "python2"
  },
  "language_info": {
   "codemirror_mode": {
    "name": "ipython",
    "version": 2
   },
   "file_extension": ".py",
   "mimetype": "text/x-python",
   "name": "python",
   "nbconvert_exporter": "python",
   "pygments_lexer": "ipython2",
   "version": "2.7.10"
  }
 },
 "nbformat": 4,
 "nbformat_minor": 0
}
