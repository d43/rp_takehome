{
 "cells": [
  {
   "cell_type": "code",
   "execution_count": 101,
   "metadata": {
    "collapsed": true
   },
   "outputs": [],
   "source": [
    "import pandas as pd\n",
    "import numpy as np\n",
    "import matplotlib.pyplot as plt\n",
    "%matplotlib inline"
   ]
  },
  {
   "cell_type": "code",
   "execution_count": 190,
   "metadata": {
    "collapsed": false
   },
   "outputs": [],
   "source": [
    "filenames = ['listings1.csv', 'listings2.csv', 'listings3.csv']\n",
    "df = pd.DataFrame()\n",
    "for source in filenames:\n",
    "    df_input = pd.read_csv(source)\n",
    "    df_input['source'] = source\n",
    "    df_input['create_date'] = pd.to_datetime(df_input['create_date'])\n",
    "    df_input['expire_date'] = pd.to_datetime(df_input['expire_date'])\n",
    "    df = df.append(df_input)\n",
    "df_raw = df.copy()\n",
    "df.drop_duplicates(subset=['id'], inplace=True)\n",
    "df = df.sort('create_date', ascending=False)\n",
    "df.drop_duplicates(subset=['beds', 'abstract', 'city', 'state'], inplace=True)"
   ]
  },
  {
   "cell_type": "code",
   "execution_count": 192,
   "metadata": {
    "collapsed": false
   },
   "outputs": [
    {
     "name": "stdout",
     "output_type": "stream",
     "text": [
      "<class 'pandas.core.frame.DataFrame'>\n",
      "Int64Index: 6280 entries, 0 to 2437\n",
      "Data columns (total 9 columns):\n",
      "id             6280 non-null int64\n",
      "beds           6280 non-null int64\n",
      "price          6280 non-null int64\n",
      "abstract       4495 non-null object\n",
      "city           6280 non-null object\n",
      "state          6280 non-null object\n",
      "create_date    6280 non-null datetime64[ns]\n",
      "expire_date    5589 non-null datetime64[ns]\n",
      "source         6280 non-null object\n",
      "dtypes: datetime64[ns](2), int64(3), object(4)\n",
      "memory usage: 490.6+ KB\n"
     ]
    }
   ],
   "source": [
    "df_raw.info()"
   ]
  },
  {
   "cell_type": "code",
   "execution_count": null,
   "metadata": {
    "collapsed": true
   },
   "outputs": [],
   "source": []
  }
 ],
 "metadata": {
  "kernelspec": {
   "display_name": "Python 2",
   "language": "python",
   "name": "python2"
  },
  "language_info": {
   "codemirror_mode": {
    "name": "ipython",
    "version": 2
   },
   "file_extension": ".py",
   "mimetype": "text/x-python",
   "name": "python",
   "nbconvert_exporter": "python",
   "pygments_lexer": "ipython2",
   "version": "2.7.10"
  }
 },
 "nbformat": 4,
 "nbformat_minor": 0
}
